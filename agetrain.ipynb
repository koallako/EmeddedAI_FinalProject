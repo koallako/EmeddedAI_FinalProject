{
 "cells": [
  {
   "cell_type": "code",
   "execution_count": 1,
   "metadata": {},
   "outputs": [],
   "source": [
    "import os\n",
    "import numpy as np\n",
    "import torch\n",
    "import torch.nn as nn\n",
    "import torch.optim as optim\n",
    "from torch.utils.data import DataLoader\n",
    "from sklearn.model_selection import train_test_split\n",
    "from tqdm import tqdm\n",
    "import matplotlib.pyplot as plt\n",
    "import torch.nn.utils.prune as prune\n",
    "import json\n",
    "import time\n",
    "from sklearn.metrics import mean_absolute_error\n",
    "\n",
    "from agemodel import AgePredictor, apply_pruning\n",
    "from agedataset import AgeDataset, get_transforms, load_dataset\n",
    "\n",
    "import copy"
   ]
  },
  {
   "cell_type": "code",
   "execution_count": 2,
   "metadata": {},
   "outputs": [],
   "source": [
    "\n",
    "\n",
    "def calculate_metrics(outputs, ages, scale_params):\n",
    "    \"\"\"Calculate MAE and accuracy metrics\"\"\"\n",
    "    with torch.no_grad():\n",
    "        pred_ages = outputs.cpu().numpy().squeeze() * (scale_params['max_age'] - scale_params['min_age']) + scale_params['min_age']\n",
    "        true_ages = ages.cpu().numpy() * (scale_params['max_age'] - scale_params['min_age']) + scale_params['min_age']\n",
    "        \n",
    "        mae = float(np.mean(np.abs(pred_ages - true_ages)))\n",
    "        accuracy_10 = float(np.mean(np.abs(pred_ages - true_ages) <= 10))\n",
    "        accuracy_15 = float(np.mean(np.abs(pred_ages - true_ages) <= 15))\n",
    "        \n",
    "        return mae, accuracy_10, accuracy_15\n",
    "\n",
    "\n",
    "def plot_training_history(history, save_path):\n",
    "    \"\"\"학습 히스토리 시각화\"\"\"\n",
    "    plt.figure(figsize=(15, 5))\n",
    "    \n",
    "    # Loss plot\n",
    "    plt.subplot(1, 3, 1)\n",
    "    plt.plot(history['train_loss'], label='Train Loss')\n",
    "    plt.plot(history['val_loss'], label='Val Loss')\n",
    "    plt.title('Loss History')\n",
    "    plt.xlabel('Epoch')\n",
    "    plt.ylabel('Loss')\n",
    "    plt.legend()\n",
    "    \n",
    "    # MAE plot\n",
    "    plt.subplot(1, 3, 2)\n",
    "    plt.plot(history['train_mae'], label='Train MAE')\n",
    "    plt.plot(history['val_mae'], label='Val MAE')\n",
    "    plt.title('MAE History')\n",
    "    plt.xlabel('Epoch')\n",
    "    plt.ylabel('MAE (years)')\n",
    "    plt.legend()\n",
    "    \n",
    "    # Accuracy plot\n",
    "    plt.subplot(1, 3, 3)\n",
    "    plt.plot(history['train_acc10'], label='Train Acc@10')\n",
    "    plt.plot(history['val_acc10'], label='Val Acc@10')\n",
    "    plt.plot(history['train_acc15'], label='Train Acc@15')\n",
    "    plt.plot(history['val_acc15'], label='Val Acc@15')\n",
    "    plt.title('Accuracy History')\n",
    "    plt.xlabel('Epoch')\n",
    "    plt.ylabel('Accuracy')\n",
    "    plt.legend()\n",
    "    \n",
    "    plt.tight_layout()\n",
    "    plt.savefig(os.path.join(save_path, 'training_history.png'))\n",
    "    plt.close()\n",
    "\n",
    "def train_teacher_model(model, train_loader, val_loader, device, scale_params, save_path, num_epochs=20):\n",
    "    \"\"\"Teacher 모델 학습\"\"\"\n",
    "    criterion = nn.L1Loss()\n",
    "    optimizer = optim.Adam(model.parameters(), lr=0.001)\n",
    "    scheduler = optim.lr_scheduler.ReduceLROnPlateau(optimizer, 'min', patience=3)\n",
    "    \n",
    "    best_val_loss = float('inf')\n",
    "    history = {\n",
    "        'train_loss': [], 'val_loss': [], \n",
    "        'train_mae': [], 'val_mae': [],\n",
    "        'train_acc10': [], 'val_acc10': [], \n",
    "        'train_acc15': [], 'val_acc15': []\n",
    "    }\n",
    "    \n",
    "    for epoch in range(num_epochs):\n",
    "        model.train()\n",
    "        train_loss = 0\n",
    "        train_mae = 0\n",
    "        train_acc10 = 0\n",
    "        train_acc15 = 0\n",
    "        \n",
    "        train_bar = tqdm(train_loader, desc=f'Epoch {epoch+1}/{num_epochs} Training')\n",
    "        for images, ages in train_bar:\n",
    "            images, ages = images.to(device), ages.to(device)\n",
    "            optimizer.zero_grad()\n",
    "            outputs = model(images)\n",
    "            loss = criterion(outputs.squeeze(), ages)\n",
    "            loss.backward()\n",
    "            optimizer.step()\n",
    "            \n",
    "            mae, acc10, acc15 = calculate_metrics(outputs, ages, scale_params)\n",
    "            \n",
    "            train_loss += float(loss.item())\n",
    "            train_mae += mae\n",
    "            train_acc10 += acc10\n",
    "            train_acc15 += acc15\n",
    "            \n",
    "            train_bar.set_postfix({\n",
    "                'loss': loss.item(),\n",
    "                'MAE': mae,\n",
    "                'Acc@10': f'{acc10*100:.1f}%',\n",
    "                'Acc@15': f'{acc15*100:.1f}%'\n",
    "            })\n",
    "        \n",
    "        # 검증\n",
    "        model.eval()\n",
    "        val_loss = 0\n",
    "        val_mae = 0\n",
    "        val_acc10 = 0\n",
    "        val_acc15 = 0\n",
    "        \n",
    "        with torch.no_grad():\n",
    "            for images, ages in val_loader:\n",
    "                images, ages = images.to(device), ages.to(device)\n",
    "                outputs = model(images)\n",
    "                loss = criterion(outputs.squeeze(), ages)\n",
    "                \n",
    "                mae, acc10, acc15 = calculate_metrics(outputs, ages, scale_params)\n",
    "                \n",
    "                val_loss += float(loss.item())\n",
    "                val_mae += mae\n",
    "                val_acc10 += acc10\n",
    "                val_acc15 += acc15\n",
    "        \n",
    "        # 평균 계산\n",
    "        metrics = {\n",
    "            'train_loss': train_loss / len(train_loader),\n",
    "            'train_mae': train_mae / len(train_loader),\n",
    "            'train_acc10': train_acc10 / len(train_loader),\n",
    "            'train_acc15': train_acc15 / len(train_loader),\n",
    "            'val_loss': val_loss / len(val_loader),\n",
    "            'val_mae': val_mae / len(val_loader),\n",
    "            'val_acc10': val_acc10 / len(val_loader),\n",
    "            'val_acc15': val_acc15 / len(val_loader)\n",
    "        }\n",
    "        \n",
    "        # 히스토리 업데이트\n",
    "        for k, v in metrics.items():\n",
    "            history[k].append(v)\n",
    "        \n",
    "        print(f'\\nEpoch {epoch+1}:')\n",
    "        print(f'Train - Loss: {metrics[\"train_loss\"]:.4f}, MAE: {metrics[\"train_mae\"]:.2f} years')\n",
    "        print(f'Val   - Loss: {metrics[\"val_loss\"]:.4f}, MAE: {metrics[\"val_mae\"]:.2f} years')\n",
    "        \n",
    "        scheduler.step(metrics['val_loss'])\n",
    "        \n",
    "        if metrics['val_loss'] < best_val_loss:\n",
    "            best_val_loss = metrics['val_loss']\n",
    "            \n",
    "            # 모델 저장\n",
    "            save_dict = {\n",
    "                'model_state_dict': model.state_dict(),\n",
    "                'optimizer_state_dict': optimizer.state_dict(),\n",
    "                'epoch': epoch,\n",
    "                'metrics': {k: float(v) for k, v in metrics.items()}\n",
    "            }\n",
    "            torch.save(save_dict, os.path.join(save_path, 'teacher_model_best.pth'))\n",
    "            \n",
    "            # 메트릭 저장\n",
    "            with open(os.path.join(save_path, 'teacher_metrics.json'), 'w') as f:\n",
    "                json.dump({\n",
    "                    'best_epoch': epoch,\n",
    "                    'metrics': {k: float(v) for k, v in metrics.items()}\n",
    "                }, f, indent=4)\n",
    "    \n",
    "    # 학습 히스토리 시각화\n",
    "    plot_training_history(history, save_path)\n",
    "    return model, history\n",
    "\n",
    "def train_student_model(teacher_model, student_model, train_loader, val_loader, device, \n",
    "                       scale_params, save_path, temperature=3.0, alpha=0.5, num_epochs=20):\n",
    "    \"\"\"Knowledge Distillation을 사용한 Student 모델 학습\"\"\"\n",
    "    criterion_kd = nn.KLDivLoss(reduction='batchmean')\n",
    "    criterion_task = nn.L1Loss()\n",
    "    optimizer = optim.Adam(student_model.parameters(), lr=0.001)\n",
    "    scheduler = optim.lr_scheduler.ReduceLROnPlateau(optimizer, 'min', patience=3)\n",
    "    \n",
    "    teacher_model.eval()\n",
    "    best_val_loss = float('inf')\n",
    "    history = {\n",
    "        'train_loss': [], 'val_loss': [], \n",
    "        'train_mae': [], 'val_mae': [],\n",
    "        'train_acc10': [], 'val_acc10': [], \n",
    "        'train_acc15': [], 'val_acc15': []\n",
    "    }\n",
    "    \n",
    "    for epoch in range(num_epochs):\n",
    "        student_model.train()\n",
    "        train_loss = 0\n",
    "        train_mae = 0\n",
    "        train_acc10 = 0\n",
    "        train_acc15 = 0\n",
    "        \n",
    "        train_bar = tqdm(train_loader, desc=f'Epoch {epoch+1}/{num_epochs} Training')\n",
    "        for images, ages in train_bar:\n",
    "            images, ages = images.to(device), ages.to(device)\n",
    "            optimizer.zero_grad()\n",
    "            \n",
    "            # Teacher의 출력\n",
    "            with torch.no_grad():\n",
    "                teacher_outputs = teacher_model(images)\n",
    "            \n",
    "            # Student의 출력\n",
    "            student_outputs = student_model(images)\n",
    "            \n",
    "            # Knowledge Distillation Loss\n",
    "            loss_kd = criterion_kd(\n",
    "                torch.log_softmax(student_outputs/temperature, dim=1),\n",
    "                torch.softmax(teacher_outputs/temperature, dim=1)\n",
    "            ) * (temperature * temperature)\n",
    "            \n",
    "            # Task-specific Loss\n",
    "            loss_task = criterion_task(student_outputs.squeeze(), ages)\n",
    "            \n",
    "            # Total Loss\n",
    "            loss = alpha * loss_kd + (1 - alpha) * loss_task\n",
    "            loss.backward()\n",
    "            optimizer.step()\n",
    "            \n",
    "            mae, acc10, acc15 = calculate_metrics(student_outputs, ages, scale_params)\n",
    "            \n",
    "            train_loss += float(loss.item())\n",
    "            train_mae += mae\n",
    "            train_acc10 += acc10\n",
    "            train_acc15 += acc15\n",
    "            \n",
    "            train_bar.set_postfix({\n",
    "                'loss': loss.item(),\n",
    "                'MAE': mae,\n",
    "                'Acc@10': f'{acc10*100:.1f}%',\n",
    "                'Acc@15': f'{acc15*100:.1f}%'\n",
    "            })\n",
    "        \n",
    "        # 검증\n",
    "        student_model.eval()\n",
    "        val_loss = 0\n",
    "        val_mae = 0\n",
    "        val_acc10 = 0\n",
    "        val_acc15 = 0\n",
    "        \n",
    "        with torch.no_grad():\n",
    "            for images, ages in val_loader:\n",
    "                images, ages = images.to(device), ages.to(device)\n",
    "                outputs = student_model(images)\n",
    "                loss = criterion_task(outputs.squeeze(), ages)\n",
    "                \n",
    "                mae, acc10, acc15 = calculate_metrics(outputs, ages, scale_params)\n",
    "                \n",
    "                val_loss += float(loss.item())\n",
    "                val_mae += mae\n",
    "                val_acc10 += acc10\n",
    "                val_acc15 += acc15\n",
    "        \n",
    "        # 평균 계산\n",
    "        metrics = {\n",
    "            'train_loss': train_loss / len(train_loader),\n",
    "            'train_mae': train_mae / len(train_loader),\n",
    "            'train_acc10': train_acc10 / len(train_loader),\n",
    "            'train_acc15': train_acc15 / len(train_loader),\n",
    "            'val_loss': val_loss / len(val_loader),\n",
    "            'val_mae': val_mae / len(val_loader),\n",
    "            'val_acc10': val_acc10 / len(val_loader),\n",
    "            'val_acc15': val_acc15 / len(val_loader)\n",
    "        }\n",
    "        \n",
    "        # 히스토리 업데이트\n",
    "        for k, v in metrics.items():\n",
    "            history[k].append(v)\n",
    "        \n",
    "        print(f'\\nEpoch {epoch+1}:')\n",
    "        print(f'Train - Loss: {metrics[\"train_loss\"]:.4f}, MAE: {metrics[\"train_mae\"]:.2f} years')\n",
    "        print(f'Val   - Loss: {metrics[\"val_loss\"]:.4f}, MAE: {metrics[\"val_mae\"]:.2f} years')\n",
    "        \n",
    "        scheduler.step(metrics['val_loss'])\n",
    "        \n",
    "        if metrics['val_loss'] < best_val_loss:\n",
    "            best_val_loss = metrics['val_loss']\n",
    "            \n",
    "            # 모델 저장\n",
    "            save_dict = {\n",
    "                'model_state_dict': student_model.state_dict(),\n",
    "                'optimizer_state_dict': optimizer.state_dict(),\n",
    "                'epoch': epoch,\n",
    "                'metrics': {k: float(v) for k, v in metrics.items()}\n",
    "            }\n",
    "            torch.save(save_dict, os.path.join(save_path, 'student_model_best.pth'))\n",
    "            \n",
    "            # 메트릭 저장\n",
    "            with open(os.path.join(save_path, 'student_metrics.json'), 'w') as f:\n",
    "                json.dump({\n",
    "                    'best_epoch': epoch,\n",
    "                    'metrics': {k: float(v) for k, v in metrics.items()}\n",
    "                }, f, indent=4)\n",
    "    \n",
    "    # 학습 히스토리 시각화\n",
    "    plot_training_history(history, save_path)\n",
    "    return student_model, history\n",
    "\n",
    "def evaluate_model_performance(model, data_loader, device, scale_params):\n",
    "    \"\"\"모델의 정확도 및 MAE 평가\"\"\"\n",
    "    model.eval()\n",
    "    predictions = []\n",
    "    true_ages = []\n",
    "    \n",
    "    with torch.no_grad():\n",
    "        for images, ages in tqdm(data_loader, desc=\"Evaluating\"):\n",
    "            images = images.to(device)\n",
    "            outputs = model(images)\n",
    "            \n",
    "            # 스케일 복원\n",
    "            pred_ages = outputs.cpu().numpy().squeeze() * (scale_params['max_age'] - scale_params['min_age']) + scale_params['min_age']\n",
    "            true_ages_batch = ages.numpy() * (scale_params['max_age'] - scale_params['min_age']) + scale_params['min_age']\n",
    "            \n",
    "            predictions.extend(pred_ages)\n",
    "            true_ages.extend(true_ages_batch)\n",
    "    \n",
    "    predictions = np.array(predictions)\n",
    "    true_ages = np.array(true_ages)\n",
    "    \n",
    "    mae = mean_absolute_error(true_ages, predictions)\n",
    "    accuracy_10 = np.mean(np.abs(predictions - true_ages) <= 10)\n",
    "    accuracy_15 = np.mean(np.abs(predictions - true_ages) <= 15)\n",
    "    \n",
    "    return {\n",
    "        'mae': float(mae),\n",
    "        'accuracy_10': float(accuracy_10),\n",
    "        'accuracy_15': float(accuracy_15),\n",
    "        'predictions': predictions,\n",
    "        'true_ages': true_ages\n",
    "    }\n",
    "\n",
    "def compare_models(models, val_loader, device, scale_params, save_path='results'):\n",
    "    \"\"\"여러 모델의 성능 비교\"\"\"\n",
    "    os.makedirs(save_path, exist_ok=True)\n",
    "    results = {}\n",
    "    \n",
    "    for name, model in models.items():\n",
    "        print(f\"\\nEvaluating {name} model...\")\n",
    "        model = model.to(device)\n",
    "        \n",
    "        # 추론 시간 측정\n",
    "        start_time = time.time()\n",
    "        performance = evaluate_model_performance(model, val_loader, device, scale_params)\n",
    "        inference_time = (time.time() - start_time) / len(val_loader.dataset)\n",
    "        \n",
    "        # 모델 크기 계산 (MB)\n",
    "        model_size = sum(p.nelement() * p.element_size() for p in model.parameters()) / (1024 * 1024)\n",
    "        \n",
    "        results[name] = {\n",
    "            'mae': float(performance['mae']),\n",
    "            'accuracy_10': float(performance['accuracy_10']),\n",
    "            'accuracy_15': float(performance['accuracy_15']),\n",
    "            'inference_time': float(inference_time),\n",
    "            'model_size': float(model_size),\n",
    "            'predictions': performance['predictions'],\n",
    "            'true_ages': performance['true_ages']\n",
    "        }\n",
    "        \n",
    "        print(f\"\\n{name} Model Results:\")\n",
    "        print(f\"Mean Absolute Error: {performance['mae']:.2f} years\")\n",
    "        print(f\"Accuracy within 10 years: {performance['accuracy_10']*100:.2f}%\")\n",
    "        print(f\"Accuracy within 15 years: {performance['accuracy_15']*100:.2f}%\")\n",
    "        print(f\"Average Inference Time: {inference_time*1000:.2f} ms per image\")\n",
    "        print(f\"Model Size: {model_size:.2f} MB\")\n",
    "        \n",
    "        # 산점도 그리기\n",
    "        plt.figure(figsize=(10, 6))\n",
    "        plt.scatter(performance['true_ages'], performance['predictions'], alpha=0.5)\n",
    "        plt.plot([0, 100], [0, 100], 'r--')\n",
    "        plt.xlabel('True Age')\n",
    "        plt.ylabel('Predicted Age')\n",
    "        plt.title(f'{name} Model: Predicted vs True Age')\n",
    "        plt.savefig(os.path.join(save_path, f'{name.lower()}_scatter.png'))\n",
    "        plt.close()\n",
    "    \n",
    "    # 모델 간 비교 그래프\n",
    "    metrics = ['mae', 'accuracy_10', 'accuracy_15', 'inference_time', 'model_size']\n",
    "    for metric in metrics:\n",
    "        plt.figure(figsize=(8, 5))\n",
    "        values = [results[model][metric] for model in results]\n",
    "        plt.bar(results.keys(), values)\n",
    "        plt.title(f'Model Comparison: {metric}')\n",
    "        plt.xticks(rotation=45)\n",
    "        plt.tight_layout()\n",
    "        plt.savefig(os.path.join(save_path, f'comparison_{metric}.png'))\n",
    "        plt.close()\n",
    "    \n",
    "    # 결과 JSON 저장\n",
    "    \n",
    "    with open(os.path.join(save_path, 'comparison_results.json'), 'w') as f:\n",
    "        json_results = {name: {k: float(v) if isinstance(v, (np.float32, np.float64)) else v \n",
    "                              for k, v in metrics.items() if not isinstance(v, np.ndarray)}\n",
    "                       for name, metrics in results.items()}\n",
    "        json.dump(json_results, f, indent=4)\n",
    "    \n",
    "    return results\n",
    "\n"
   ]
  },
  {
   "cell_type": "code",
   "execution_count": null,
   "metadata": {},
   "outputs": [
    {
     "name": "stdout",
     "output_type": "stream",
     "text": [
      "Loading dataset...\n",
      "\n",
      "Training Teacher Model...\n"
     ]
    },
    {
     "name": "stderr",
     "output_type": "stream",
     "text": [
      "Epoch 1/20 Training: 100%|██████████| 75/75 [00:06<00:00, 11.31it/s, loss=0.174, MAE=17, Acc@10=43.8%, Acc@15=59.4%]  \n"
     ]
    },
    {
     "name": "stdout",
     "output_type": "stream",
     "text": [
      "\n",
      "Epoch 1:\n",
      "Train - Loss: 0.2215, MAE: 21.71 years\n",
      "Val   - Loss: 0.1773, MAE: 17.38 years\n"
     ]
    },
    {
     "name": "stderr",
     "output_type": "stream",
     "text": [
      "Epoch 2/20 Training: 100%|██████████| 75/75 [00:06<00:00, 11.47it/s, loss=0.2, MAE=19.6, Acc@10=28.1%, Acc@15=46.9%]  \n"
     ]
    },
    {
     "name": "stdout",
     "output_type": "stream",
     "text": [
      "\n",
      "Epoch 2:\n",
      "Train - Loss: 0.1723, MAE: 16.89 years\n",
      "Val   - Loss: 0.1632, MAE: 15.99 years\n"
     ]
    },
    {
     "name": "stderr",
     "output_type": "stream",
     "text": [
      "Epoch 3/20 Training: 100%|██████████| 75/75 [00:06<00:00, 11.23it/s, loss=0.174, MAE=17, Acc@10=31.2%, Acc@15=43.8%]  \n"
     ]
    },
    {
     "name": "stdout",
     "output_type": "stream",
     "text": [
      "\n",
      "Epoch 3:\n",
      "Train - Loss: 0.1611, MAE: 15.79 years\n",
      "Val   - Loss: 0.1406, MAE: 13.78 years\n"
     ]
    },
    {
     "name": "stderr",
     "output_type": "stream",
     "text": [
      "Epoch 4/20 Training: 100%|██████████| 75/75 [00:06<00:00, 11.12it/s, loss=0.169, MAE=16.5, Acc@10=34.4%, Acc@15=46.9%]\n"
     ]
    },
    {
     "name": "stdout",
     "output_type": "stream",
     "text": [
      "\n",
      "Epoch 4:\n",
      "Train - Loss: 0.1443, MAE: 14.14 years\n",
      "Val   - Loss: 0.1255, MAE: 12.30 years\n"
     ]
    },
    {
     "name": "stderr",
     "output_type": "stream",
     "text": [
      "Epoch 5/20 Training: 100%|██████████| 75/75 [00:06<00:00, 11.05it/s, loss=0.197, MAE=19.4, Acc@10=37.5%, Acc@15=50.0%] \n"
     ]
    },
    {
     "name": "stdout",
     "output_type": "stream",
     "text": [
      "\n",
      "Epoch 5:\n",
      "Train - Loss: 0.1355, MAE: 13.28 years\n",
      "Val   - Loss: 0.1185, MAE: 11.61 years\n"
     ]
    },
    {
     "name": "stderr",
     "output_type": "stream",
     "text": [
      "Epoch 6/20 Training: 100%|██████████| 75/75 [00:06<00:00, 10.88it/s, loss=0.0903, MAE=8.85, Acc@10=71.9%, Acc@15=78.1%]\n"
     ]
    },
    {
     "name": "stdout",
     "output_type": "stream",
     "text": [
      "\n",
      "Epoch 6:\n",
      "Train - Loss: 0.1237, MAE: 12.13 years\n",
      "Val   - Loss: 0.1163, MAE: 11.39 years\n"
     ]
    },
    {
     "name": "stderr",
     "output_type": "stream",
     "text": [
      "Epoch 7/20 Training: 100%|██████████| 75/75 [00:06<00:00, 10.88it/s, loss=0.0914, MAE=8.96, Acc@10=68.8%, Acc@15=90.6%]\n"
     ]
    },
    {
     "name": "stdout",
     "output_type": "stream",
     "text": [
      "\n",
      "Epoch 7:\n",
      "Train - Loss: 0.1186, MAE: 11.63 years\n",
      "Val   - Loss: 0.1085, MAE: 10.64 years\n"
     ]
    },
    {
     "name": "stderr",
     "output_type": "stream",
     "text": [
      "Epoch 8/20 Training: 100%|██████████| 75/75 [00:06<00:00, 10.85it/s, loss=0.114, MAE=11.1, Acc@10=62.5%, Acc@15=75.0%] \n"
     ]
    },
    {
     "name": "stdout",
     "output_type": "stream",
     "text": [
      "\n",
      "Epoch 8:\n",
      "Train - Loss: 0.1144, MAE: 11.21 years\n",
      "Val   - Loss: 0.1132, MAE: 11.09 years\n"
     ]
    },
    {
     "name": "stderr",
     "output_type": "stream",
     "text": [
      "Epoch 9/20 Training: 100%|██████████| 75/75 [00:06<00:00, 10.72it/s, loss=0.101, MAE=9.9, Acc@10=62.5%, Acc@15=81.2%]  \n"
     ]
    },
    {
     "name": "stdout",
     "output_type": "stream",
     "text": [
      "\n",
      "Epoch 9:\n",
      "Train - Loss: 0.1119, MAE: 10.97 years\n",
      "Val   - Loss: 0.1066, MAE: 10.45 years\n"
     ]
    },
    {
     "name": "stderr",
     "output_type": "stream",
     "text": [
      "Epoch 10/20 Training: 100%|██████████| 75/75 [00:06<00:00, 10.73it/s, loss=0.105, MAE=10.3, Acc@10=59.4%, Acc@15=81.2%] \n"
     ]
    },
    {
     "name": "stdout",
     "output_type": "stream",
     "text": [
      "\n",
      "Epoch 10:\n",
      "Train - Loss: 0.1086, MAE: 10.64 years\n",
      "Val   - Loss: 0.0998, MAE: 9.78 years\n"
     ]
    },
    {
     "name": "stderr",
     "output_type": "stream",
     "text": [
      "Epoch 11/20 Training: 100%|██████████| 75/75 [00:07<00:00, 10.65it/s, loss=0.124, MAE=12.2, Acc@10=62.5%, Acc@15=68.8%] \n"
     ]
    },
    {
     "name": "stdout",
     "output_type": "stream",
     "text": [
      "\n",
      "Epoch 11:\n",
      "Train - Loss: 0.1038, MAE: 10.17 years\n",
      "Val   - Loss: 0.1059, MAE: 10.38 years\n"
     ]
    },
    {
     "name": "stderr",
     "output_type": "stream",
     "text": [
      "Epoch 12/20 Training: 100%|██████████| 75/75 [00:07<00:00, 10.48it/s, loss=0.114, MAE=11.1, Acc@10=65.6%, Acc@15=68.8%] \n"
     ]
    },
    {
     "name": "stdout",
     "output_type": "stream",
     "text": [
      "\n",
      "Epoch 12:\n",
      "Train - Loss: 0.1056, MAE: 10.35 years\n",
      "Val   - Loss: 0.0999, MAE: 9.79 years\n"
     ]
    },
    {
     "name": "stderr",
     "output_type": "stream",
     "text": [
      "Epoch 13/20 Training: 100%|██████████| 75/75 [00:07<00:00, 10.47it/s, loss=0.0745, MAE=7.3, Acc@10=65.6%, Acc@15=90.6%] \n"
     ]
    },
    {
     "name": "stdout",
     "output_type": "stream",
     "text": [
      "\n",
      "Epoch 13:\n",
      "Train - Loss: 0.0975, MAE: 9.56 years\n",
      "Val   - Loss: 0.1051, MAE: 10.30 years\n"
     ]
    },
    {
     "name": "stderr",
     "output_type": "stream",
     "text": [
      "Epoch 14/20 Training: 100%|██████████| 75/75 [00:07<00:00, 10.52it/s, loss=0.0894, MAE=8.76, Acc@10=65.6%, Acc@15=78.1%]\n"
     ]
    },
    {
     "name": "stdout",
     "output_type": "stream",
     "text": [
      "\n",
      "Epoch 14:\n",
      "Train - Loss: 0.0981, MAE: 9.62 years\n",
      "Val   - Loss: 0.0953, MAE: 9.34 years\n"
     ]
    },
    {
     "name": "stderr",
     "output_type": "stream",
     "text": [
      "Epoch 15/20 Training: 100%|██████████| 75/75 [00:07<00:00, 10.55it/s, loss=0.0944, MAE=9.26, Acc@10=71.9%, Acc@15=81.2%]\n"
     ]
    },
    {
     "name": "stdout",
     "output_type": "stream",
     "text": [
      "\n",
      "Epoch 15:\n",
      "Train - Loss: 0.0984, MAE: 9.65 years\n",
      "Val   - Loss: 0.0988, MAE: 9.68 years\n"
     ]
    },
    {
     "name": "stderr",
     "output_type": "stream",
     "text": [
      "Epoch 16/20 Training: 100%|██████████| 75/75 [00:07<00:00, 10.61it/s, loss=0.102, MAE=9.99, Acc@10=56.2%, Acc@15=75.0%] \n"
     ]
    },
    {
     "name": "stdout",
     "output_type": "stream",
     "text": [
      "\n",
      "Epoch 16:\n",
      "Train - Loss: 0.0960, MAE: 9.41 years\n",
      "Val   - Loss: 0.0964, MAE: 9.45 years\n"
     ]
    },
    {
     "name": "stderr",
     "output_type": "stream",
     "text": [
      "Epoch 17/20 Training: 100%|██████████| 75/75 [00:07<00:00, 10.30it/s, loss=0.0987, MAE=9.67, Acc@10=59.4%, Acc@15=81.2%]\n"
     ]
    },
    {
     "name": "stdout",
     "output_type": "stream",
     "text": [
      "\n",
      "Epoch 17:\n",
      "Train - Loss: 0.0939, MAE: 9.20 years\n",
      "Val   - Loss: 0.0966, MAE: 9.47 years\n"
     ]
    },
    {
     "name": "stderr",
     "output_type": "stream",
     "text": [
      "Epoch 18/20 Training: 100%|██████████| 75/75 [00:07<00:00, 10.44it/s, loss=0.0941, MAE=9.22, Acc@10=53.1%, Acc@15=78.1%]\n"
     ]
    },
    {
     "name": "stdout",
     "output_type": "stream",
     "text": [
      "\n",
      "Epoch 18:\n",
      "Train - Loss: 0.0904, MAE: 8.86 years\n",
      "Val   - Loss: 0.0910, MAE: 8.92 years\n"
     ]
    },
    {
     "name": "stderr",
     "output_type": "stream",
     "text": [
      "Epoch 19/20 Training: 100%|██████████| 75/75 [00:07<00:00, 10.47it/s, loss=0.0882, MAE=8.64, Acc@10=59.4%, Acc@15=81.2%]\n"
     ]
    },
    {
     "name": "stdout",
     "output_type": "stream",
     "text": [
      "\n",
      "Epoch 19:\n",
      "Train - Loss: 0.0890, MAE: 8.72 years\n",
      "Val   - Loss: 0.0904, MAE: 8.86 years\n"
     ]
    },
    {
     "name": "stderr",
     "output_type": "stream",
     "text": [
      "Epoch 20/20 Training: 100%|██████████| 75/75 [00:07<00:00, 10.54it/s, loss=0.109, MAE=10.7, Acc@10=68.8%, Acc@15=84.4%] \n"
     ]
    },
    {
     "name": "stdout",
     "output_type": "stream",
     "text": [
      "\n",
      "Epoch 20:\n",
      "Train - Loss: 0.0852, MAE: 8.35 years\n",
      "Val   - Loss: 0.0910, MAE: 8.92 years\n",
      "\n",
      "Training Student Model...\n"
     ]
    },
    {
     "name": "stderr",
     "output_type": "stream",
     "text": [
      "Epoch 1/20 Training: 100%|██████████| 75/75 [00:05<00:00, 13.25it/s, loss=0.109, MAE=21.3, Acc@10=31.2%, Acc@15=56.2%] \n"
     ]
    },
    {
     "name": "stdout",
     "output_type": "stream",
     "text": [
      "\n",
      "Epoch 1:\n",
      "Train - Loss: 0.1110, MAE: 21.75 years\n",
      "Val   - Loss: 0.1785, MAE: 17.49 years\n"
     ]
    },
    {
     "name": "stderr",
     "output_type": "stream",
     "text": [
      "Epoch 2/20 Training: 100%|██████████| 75/75 [00:05<00:00, 13.28it/s, loss=0.0775, MAE=15.2, Acc@10=43.8%, Acc@15=56.2%]\n"
     ]
    },
    {
     "name": "stdout",
     "output_type": "stream",
     "text": [
      "\n",
      "Epoch 2:\n",
      "Train - Loss: 0.0868, MAE: 17.01 years\n",
      "Val   - Loss: 0.1495, MAE: 14.65 years\n"
     ]
    },
    {
     "name": "stderr",
     "output_type": "stream",
     "text": [
      "Epoch 3/20 Training: 100%|██████████| 75/75 [00:05<00:00, 13.12it/s, loss=0.0785, MAE=15.4, Acc@10=40.6%, Acc@15=62.5%]\n"
     ]
    },
    {
     "name": "stdout",
     "output_type": "stream",
     "text": [
      "\n",
      "Epoch 3:\n",
      "Train - Loss: 0.0802, MAE: 15.72 years\n",
      "Val   - Loss: 0.1421, MAE: 13.93 years\n"
     ]
    },
    {
     "name": "stderr",
     "output_type": "stream",
     "text": [
      "Epoch 4/20 Training: 100%|██████████| 75/75 [00:05<00:00, 13.16it/s, loss=0.0656, MAE=12.9, Acc@10=56.2%, Acc@15=68.8%]\n"
     ]
    },
    {
     "name": "stdout",
     "output_type": "stream",
     "text": [
      "\n",
      "Epoch 4:\n",
      "Train - Loss: 0.0783, MAE: 15.36 years\n",
      "Val   - Loss: 0.1473, MAE: 14.43 years\n"
     ]
    },
    {
     "name": "stderr",
     "output_type": "stream",
     "text": [
      "Epoch 5/20 Training: 100%|██████████| 75/75 [00:05<00:00, 12.83it/s, loss=0.0885, MAE=17.3, Acc@10=37.5%, Acc@15=53.1%]\n"
     ]
    },
    {
     "name": "stdout",
     "output_type": "stream",
     "text": [
      "\n",
      "Epoch 5:\n",
      "Train - Loss: 0.0720, MAE: 14.11 years\n",
      "Val   - Loss: 0.1419, MAE: 13.91 years\n"
     ]
    },
    {
     "name": "stderr",
     "output_type": "stream",
     "text": [
      "Epoch 6/20 Training: 100%|██████████| 75/75 [00:05<00:00, 12.64it/s, loss=0.0827, MAE=16.2, Acc@10=37.5%, Acc@15=46.9%]\n"
     ]
    },
    {
     "name": "stdout",
     "output_type": "stream",
     "text": [
      "\n",
      "Epoch 6:\n",
      "Train - Loss: 0.0678, MAE: 13.29 years\n",
      "Val   - Loss: 0.1244, MAE: 12.19 years\n"
     ]
    },
    {
     "name": "stderr",
     "output_type": "stream",
     "text": [
      "Epoch 7/20 Training: 100%|██████████| 75/75 [00:05<00:00, 13.00it/s, loss=0.0454, MAE=8.9, Acc@10=59.4%, Acc@15=75.0%] \n"
     ]
    },
    {
     "name": "stdout",
     "output_type": "stream",
     "text": [
      "\n",
      "Epoch 7:\n",
      "Train - Loss: 0.0620, MAE: 12.15 years\n",
      "Val   - Loss: 0.1141, MAE: 11.18 years\n"
     ]
    },
    {
     "name": "stderr",
     "output_type": "stream",
     "text": [
      "Epoch 8/20 Training: 100%|██████████| 75/75 [00:05<00:00, 12.99it/s, loss=0.0586, MAE=11.5, Acc@10=53.1%, Acc@15=59.4%]\n"
     ]
    },
    {
     "name": "stdout",
     "output_type": "stream",
     "text": [
      "\n",
      "Epoch 8:\n",
      "Train - Loss: 0.0603, MAE: 11.83 years\n",
      "Val   - Loss: 0.1106, MAE: 10.84 years\n"
     ]
    },
    {
     "name": "stderr",
     "output_type": "stream",
     "text": [
      "Epoch 9/20 Training: 100%|██████████| 75/75 [00:05<00:00, 12.92it/s, loss=0.0556, MAE=10.9, Acc@10=50.0%, Acc@15=78.1%]\n"
     ]
    },
    {
     "name": "stdout",
     "output_type": "stream",
     "text": [
      "\n",
      "Epoch 9:\n",
      "Train - Loss: 0.0567, MAE: 11.12 years\n",
      "Val   - Loss: 0.1051, MAE: 10.30 years\n"
     ]
    },
    {
     "name": "stderr",
     "output_type": "stream",
     "text": [
      "Epoch 10/20 Training: 100%|██████████| 75/75 [00:05<00:00, 12.94it/s, loss=0.0528, MAE=10.3, Acc@10=62.5%, Acc@15=78.1%]\n"
     ]
    },
    {
     "name": "stdout",
     "output_type": "stream",
     "text": [
      "\n",
      "Epoch 10:\n",
      "Train - Loss: 0.0570, MAE: 11.17 years\n",
      "Val   - Loss: 0.1089, MAE: 10.67 years\n"
     ]
    },
    {
     "name": "stderr",
     "output_type": "stream",
     "text": [
      "Epoch 11/20 Training: 100%|██████████| 75/75 [00:05<00:00, 13.02it/s, loss=0.0537, MAE=10.5, Acc@10=53.1%, Acc@15=71.9%]\n"
     ]
    },
    {
     "name": "stdout",
     "output_type": "stream",
     "text": [
      "\n",
      "Epoch 11:\n",
      "Train - Loss: 0.0561, MAE: 11.00 years\n",
      "Val   - Loss: 0.1086, MAE: 10.65 years\n"
     ]
    },
    {
     "name": "stderr",
     "output_type": "stream",
     "text": [
      "Epoch 12/20 Training: 100%|██████████| 75/75 [00:05<00:00, 13.07it/s, loss=0.0525, MAE=10.3, Acc@10=62.5%, Acc@15=75.0%]\n"
     ]
    },
    {
     "name": "stdout",
     "output_type": "stream",
     "text": [
      "\n",
      "Epoch 12:\n",
      "Train - Loss: 0.0529, MAE: 10.38 years\n",
      "Val   - Loss: 0.1035, MAE: 10.14 years\n"
     ]
    },
    {
     "name": "stderr",
     "output_type": "stream",
     "text": [
      "Epoch 13/20 Training: 100%|██████████| 75/75 [00:05<00:00, 13.08it/s, loss=0.0592, MAE=11.6, Acc@10=56.2%, Acc@15=68.8%]\n"
     ]
    },
    {
     "name": "stdout",
     "output_type": "stream",
     "text": [
      "\n",
      "Epoch 13:\n",
      "Train - Loss: 0.0518, MAE: 10.15 years\n",
      "Val   - Loss: 0.1022, MAE: 10.01 years\n"
     ]
    },
    {
     "name": "stderr",
     "output_type": "stream",
     "text": [
      "Epoch 14/20 Training: 100%|██████████| 75/75 [00:05<00:00, 13.01it/s, loss=0.0467, MAE=9.16, Acc@10=68.8%, Acc@15=87.5%]\n"
     ]
    },
    {
     "name": "stdout",
     "output_type": "stream",
     "text": [
      "\n",
      "Epoch 14:\n",
      "Train - Loss: 0.0500, MAE: 9.80 years\n",
      "Val   - Loss: 0.0972, MAE: 9.52 years\n"
     ]
    },
    {
     "name": "stderr",
     "output_type": "stream",
     "text": [
      "Epoch 15/20 Training: 100%|██████████| 75/75 [00:05<00:00, 13.03it/s, loss=0.0656, MAE=12.9, Acc@10=46.9%, Acc@15=65.6%]\n"
     ]
    },
    {
     "name": "stdout",
     "output_type": "stream",
     "text": [
      "\n",
      "Epoch 15:\n",
      "Train - Loss: 0.0489, MAE: 9.58 years\n",
      "Val   - Loss: 0.0989, MAE: 9.70 years\n"
     ]
    },
    {
     "name": "stderr",
     "output_type": "stream",
     "text": [
      "Epoch 16/20 Training: 100%|██████████| 75/75 [00:05<00:00, 13.05it/s, loss=0.0427, MAE=8.37, Acc@10=68.8%, Acc@15=78.1%]\n"
     ]
    },
    {
     "name": "stdout",
     "output_type": "stream",
     "text": [
      "\n",
      "Epoch 16:\n",
      "Train - Loss: 0.0499, MAE: 9.79 years\n",
      "Val   - Loss: 0.0979, MAE: 9.59 years\n"
     ]
    },
    {
     "name": "stderr",
     "output_type": "stream",
     "text": [
      "Epoch 17/20 Training: 100%|██████████| 75/75 [00:05<00:00, 13.05it/s, loss=0.0504, MAE=9.88, Acc@10=62.5%, Acc@15=81.2%]\n"
     ]
    },
    {
     "name": "stdout",
     "output_type": "stream",
     "text": [
      "\n",
      "Epoch 17:\n",
      "Train - Loss: 0.0487, MAE: 9.54 years\n",
      "Val   - Loss: 0.0968, MAE: 9.49 years\n"
     ]
    },
    {
     "name": "stderr",
     "output_type": "stream",
     "text": [
      "Epoch 18/20 Training: 100%|██████████| 75/75 [00:05<00:00, 13.09it/s, loss=0.0464, MAE=9.09, Acc@10=62.5%, Acc@15=78.1%]\n"
     ]
    },
    {
     "name": "stdout",
     "output_type": "stream",
     "text": [
      "\n",
      "Epoch 18:\n",
      "Train - Loss: 0.0483, MAE: 9.46 years\n",
      "Val   - Loss: 0.0995, MAE: 9.75 years\n"
     ]
    },
    {
     "name": "stderr",
     "output_type": "stream",
     "text": [
      "Epoch 19/20 Training: 100%|██████████| 75/75 [00:05<00:00, 13.10it/s, loss=0.0442, MAE=8.66, Acc@10=65.6%, Acc@15=84.4%]\n"
     ]
    },
    {
     "name": "stdout",
     "output_type": "stream",
     "text": [
      "\n",
      "Epoch 19:\n",
      "Train - Loss: 0.0463, MAE: 9.07 years\n",
      "Val   - Loss: 0.0953, MAE: 9.34 years\n"
     ]
    },
    {
     "name": "stderr",
     "output_type": "stream",
     "text": [
      "Epoch 20/20 Training: 100%|██████████| 75/75 [00:05<00:00, 13.15it/s, loss=0.0503, MAE=9.86, Acc@10=62.5%, Acc@15=68.8%]\n"
     ]
    },
    {
     "name": "stdout",
     "output_type": "stream",
     "text": [
      "\n",
      "Epoch 20:\n",
      "Train - Loss: 0.0444, MAE: 8.70 years\n",
      "Val   - Loss: 0.0961, MAE: 9.41 years\n",
      "\n",
      "Creating Pruned Model with 30.0% pruning...\n",
      "Pruned model saved successfully to models/age_model_pruned_30.pth\n",
      "\n",
      "Creating Pruned Model with 50.0% pruning...\n",
      "Pruned model saved successfully to models/age_model_pruned_50.pth\n",
      "\n",
      "Creating Pruned Model with 70.0% pruning...\n",
      "Pruned model saved successfully to models/age_model_pruned_70.pth\n",
      "\n",
      "Comparing Models...\n",
      "\n",
      "Evaluating Teacher model...\n"
     ]
    },
    {
     "name": "stderr",
     "output_type": "stream",
     "text": [
      "Evaluating: 100%|██████████| 19/19 [00:00<00:00, 25.23it/s]\n"
     ]
    },
    {
     "name": "stdout",
     "output_type": "stream",
     "text": [
      "\n",
      "Teacher Model Results:\n",
      "Mean Absolute Error: 8.90 years\n",
      "Accuracy within 10 years: 67.17%\n",
      "Accuracy within 15 years: 80.83%\n",
      "Average Inference Time: 1.26 ms per image\n",
      "Model Size: 8.36 MB\n",
      "\n",
      "Evaluating Student model...\n"
     ]
    },
    {
     "name": "stderr",
     "output_type": "stream",
     "text": [
      "Evaluating: 100%|██████████| 19/19 [00:00<00:00, 43.97it/s]\n"
     ]
    },
    {
     "name": "stdout",
     "output_type": "stream",
     "text": [
      "\n",
      "Student Model Results:\n",
      "Mean Absolute Error: 9.37 years\n",
      "Accuracy within 10 years: 62.17%\n",
      "Accuracy within 15 years: 79.83%\n",
      "Average Inference Time: 0.72 ms per image\n",
      "Model Size: 4.09 MB\n",
      "\n",
      "Evaluating Pruned (30%) model...\n"
     ]
    },
    {
     "name": "stderr",
     "output_type": "stream",
     "text": [
      "Evaluating: 100%|██████████| 19/19 [00:00<00:00, 25.48it/s]\n"
     ]
    },
    {
     "name": "stdout",
     "output_type": "stream",
     "text": [
      "\n",
      "Pruned (30%) Model Results:\n",
      "Mean Absolute Error: 8.95 years\n",
      "Accuracy within 10 years: 67.00%\n",
      "Accuracy within 15 years: 80.50%\n",
      "Average Inference Time: 1.25 ms per image\n",
      "Model Size: 8.36 MB\n",
      "\n",
      "Evaluating Pruned (50%) model...\n"
     ]
    },
    {
     "name": "stderr",
     "output_type": "stream",
     "text": [
      "Evaluating: 100%|██████████| 19/19 [00:00<00:00, 25.51it/s]\n"
     ]
    },
    {
     "name": "stdout",
     "output_type": "stream",
     "text": [
      "\n",
      "Pruned (50%) Model Results:\n",
      "Mean Absolute Error: 9.24 years\n",
      "Accuracy within 10 years: 64.83%\n",
      "Accuracy within 15 years: 79.00%\n",
      "Average Inference Time: 1.25 ms per image\n",
      "Model Size: 8.36 MB\n",
      "\n",
      "Evaluating Pruned (70%) model...\n"
     ]
    },
    {
     "name": "stderr",
     "output_type": "stream",
     "text": [
      "Evaluating: 100%|██████████| 19/19 [00:00<00:00, 25.36it/s]\n"
     ]
    },
    {
     "name": "stdout",
     "output_type": "stream",
     "text": [
      "\n",
      "Pruned (70%) Model Results:\n",
      "Mean Absolute Error: 9.64 years\n",
      "Accuracy within 10 years: 61.67%\n",
      "Accuracy within 15 years: 77.33%\n",
      "Average Inference Time: 1.25 ms per image\n",
      "Model Size: 8.36 MB\n"
     ]
    }
   ],
   "source": [
    "if __name__ == '__main__':\n",
    "    # 설정\n",
    "    DATA_PATH = '/Users/koallako/cau/4-2/Multimodal/embeddedAI/agedata/2400_dataset'\n",
    "    SAVE_PATH = 'models'\n",
    "    BATCH_SIZE = 32\n",
    "    NUM_EPOCHS = 20\n",
    "    DEVICE = torch.device('cuda' if torch.cuda.is_available() else 'cpu')\n",
    "    \n",
    "    # 데이터 로드\n",
    "    image_paths, ages, scale_params = load_dataset(DATA_PATH)\n",
    "    train_paths, val_paths, train_ages, val_ages = train_test_split(\n",
    "        image_paths, ages, test_size=0.2, random_state=42\n",
    "    )\n",
    "    \n",
    "    # 데이터셋 및 데이터로더 생성\n",
    "    train_transform, val_transform = get_transforms()\n",
    "    train_dataset = AgeDataset(train_paths, train_ages, train_transform)\n",
    "    val_dataset = AgeDataset(val_paths, val_ages, val_transform)\n",
    "    \n",
    "    train_loader = DataLoader(train_dataset, batch_size=BATCH_SIZE, shuffle=True, num_workers=2)\n",
    "    val_loader = DataLoader(val_dataset, batch_size=BATCH_SIZE, shuffle=False, num_workers=2)\n",
    "    \n",
    "    # Teacher 모델 학습\n",
    "    print(\"\\nTraining Teacher Model...\")\n",
    "    teacher_model = AgePredictor(is_student=False).to(DEVICE)\n",
    "    teacher_model, teacher_history = train_teacher_model(\n",
    "        teacher_model, train_loader, val_loader, DEVICE, scale_params, SAVE_PATH, NUM_EPOCHS\n",
    "    )\n",
    "    \n",
    "    # Student 모델 학습 (Knowledge Distillation)\n",
    "    print(\"\\nTraining Student Model...\")\n",
    "    student_model = AgePredictor(is_student=True).to(DEVICE)\n",
    "    student_model, student_history = train_student_model(\n",
    "        teacher_model, student_model, train_loader, val_loader, \n",
    "        DEVICE, scale_params, SAVE_PATH, NUM_EPOCHS\n",
    "    )\n",
    "    \n",
    "    # 다양한 프루닝 비율로 프루닝 및 저장\n",
    "    pruning_ratios = [0.3, 0.5, 0.7]\n",
    "    for ratio in pruning_ratios:\n",
    "        print(f\"\\nCreating Pruned Model with {ratio*100}% pruning...\")\n",
    "        pruned_model = AgePredictor(is_student=False).to(DEVICE)\n",
    "        pruned_model.load_state_dict(teacher_model.state_dict())\n",
    "        pruned_model = apply_pruning(pruned_model, ratio)\n",
    "        \n",
    "        # 프루닝된 모델 저장\n",
    "        pruned_save_path = os.path.join(SAVE_PATH, f'age_model_pruned_{int(ratio*100)}.pth')\n",
    "        pruned_save_dict = {\n",
    "            'model_state_dict': pruned_model.state_dict(),\n",
    "            'scale_params': scale_params,\n",
    "            'pruning_ratio': ratio\n",
    "        }\n",
    "        torch.save(pruned_save_dict, pruned_save_path)\n",
    "        print(f\"Pruned model saved successfully to {pruned_save_path}\")\n",
    "    \n",
    "    # 모델 비교\n",
    "    print(\"\\nComparing Models...\")\n",
    "    models = {\n",
    "        'Teacher': teacher_model,\n",
    "        'Student': student_model,\n",
    "    }\n",
    "    for ratio in pruning_ratios:\n",
    "        pruned_model_path = os.path.join(SAVE_PATH, f'age_model_pruned_{int(ratio*100)}.pth')\n",
    "        pruned_model_loaded = AgePredictor(is_student=False)  # 동일한 모델 구조 생성\n",
    "        pruned_checkpoint = torch.load(pruned_model_path, map_location=DEVICE)\n",
    "        pruned_model_loaded.load_state_dict(pruned_checkpoint['model_state_dict'])\n",
    "        pruned_model_loaded = pruned_model_loaded.to(DEVICE)\n",
    "        models[f'Pruned ({int(ratio*100)}%)'] = pruned_model_loaded\n",
    "\n",
    "    comparison_results = compare_models(models, val_loader, DEVICE, scale_params)\n"
   ]
  },
  {
   "cell_type": "code",
   "execution_count": null,
   "metadata": {},
   "outputs": [],
   "source": []
  }
 ],
 "metadata": {
  "kernelspec": {
   "display_name": "Python 3",
   "language": "python",
   "name": "python3"
  },
  "language_info": {
   "codemirror_mode": {
    "name": "ipython",
    "version": 3
   },
   "file_extension": ".py",
   "mimetype": "text/x-python",
   "name": "python",
   "nbconvert_exporter": "python",
   "pygments_lexer": "ipython3",
   "version": "3.6.15"
  }
 },
 "nbformat": 4,
 "nbformat_minor": 2
}
